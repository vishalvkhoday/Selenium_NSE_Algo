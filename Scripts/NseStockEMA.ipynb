{
 "cells": [
  {
   "cell_type": "code",
   "execution_count": 4,
   "metadata": {},
   "outputs": [
    {
     "ename": "DatabaseError",
     "evalue": "Execution failed on sql 'select * from NSE_EOD where Trnx_date >= GETDATE()-365 and Script_Name ='NAVKARCORP' order by Trnx_date ': ('HY000', '[HY000] [Microsoft][ODBC Driver 17 for SQL Server]Connection is busy with results for another command (0) (SQLExecDirectW)')",
     "output_type": "error",
     "traceback": [
      "\u001b[1;31m---------------------------------------------------------------------------\u001b[0m",
      "\u001b[1;31mError\u001b[0m                                     Traceback (most recent call last)",
      "File \u001b[1;32mc:\\Python\\lib\\site-packages\\pandas\\io\\sql.py:2056\u001b[0m, in \u001b[0;36mSQLiteDatabase.execute\u001b[1;34m(self, *args, **kwargs)\u001b[0m\n\u001b[0;32m   2055\u001b[0m \u001b[39mtry\u001b[39;00m:\n\u001b[1;32m-> 2056\u001b[0m     cur\u001b[39m.\u001b[39mexecute(\u001b[39m*\u001b[39margs, \u001b[39m*\u001b[39m\u001b[39m*\u001b[39mkwargs)\n\u001b[0;32m   2057\u001b[0m     \u001b[39mreturn\u001b[39;00m cur\n",
      "\u001b[1;31mError\u001b[0m: ('HY000', '[HY000] [Microsoft][ODBC Driver 17 for SQL Server]Connection is busy with results for another command (0) (SQLExecDirectW)')",
      "\nThe above exception was the direct cause of the following exception:\n",
      "\u001b[1;31mDatabaseError\u001b[0m                             Traceback (most recent call last)",
      "Cell \u001b[1;32mIn[4], line 7\u001b[0m\n\u001b[0;32m      5\u001b[0m StockSQL \u001b[39m=\u001b[39m \u001b[39m\"\u001b[39m\u001b[39mselect * from NSE_EOD where Trnx_date >= GETDATE()-365 and Script_Name =\u001b[39m\u001b[39m'\u001b[39m\u001b[39mNAVKARCORP\u001b[39m\u001b[39m'\u001b[39m\u001b[39m order by Trnx_date \u001b[39m\u001b[39m\"\u001b[39m\n\u001b[0;32m      6\u001b[0m nseEOD \u001b[39m=\u001b[39m connNSE2\u001b[39m.\u001b[39mexecute(StockSQL)\n\u001b[1;32m----> 7\u001b[0m dfStock \u001b[39m=\u001b[39m pd\u001b[39m.\u001b[39;49mread_sql(con\u001b[39m=\u001b[39;49mconnNSE2,sql\u001b[39m=\u001b[39;49mStockSQL)\n\u001b[0;32m      8\u001b[0m dfStock[\u001b[39m'\u001b[39m\u001b[39mEMA\u001b[39m\u001b[39m'\u001b[39m] \u001b[39m=\u001b[39m dfStock[\u001b[39m'\u001b[39m\u001b[39mClose\u001b[39m\u001b[39m'\u001b[39m]\u001b[39m.\u001b[39mewm(span\u001b[39m=\u001b[39m\u001b[39m21\u001b[39m)\n\u001b[0;32m      9\u001b[0m \u001b[39mprint\u001b[39m(dfStock)\n",
      "File \u001b[1;32mc:\\Python\\lib\\site-packages\\pandas\\io\\sql.py:602\u001b[0m, in \u001b[0;36mread_sql\u001b[1;34m(sql, con, index_col, coerce_float, params, parse_dates, columns, chunksize)\u001b[0m\n\u001b[0;32m    599\u001b[0m pandas_sql \u001b[39m=\u001b[39m pandasSQL_builder(con)\n\u001b[0;32m    601\u001b[0m \u001b[39mif\u001b[39;00m \u001b[39misinstance\u001b[39m(pandas_sql, SQLiteDatabase):\n\u001b[1;32m--> 602\u001b[0m     \u001b[39mreturn\u001b[39;00m pandas_sql\u001b[39m.\u001b[39;49mread_query(\n\u001b[0;32m    603\u001b[0m         sql,\n\u001b[0;32m    604\u001b[0m         index_col\u001b[39m=\u001b[39;49mindex_col,\n\u001b[0;32m    605\u001b[0m         params\u001b[39m=\u001b[39;49mparams,\n\u001b[0;32m    606\u001b[0m         coerce_float\u001b[39m=\u001b[39;49mcoerce_float,\n\u001b[0;32m    607\u001b[0m         parse_dates\u001b[39m=\u001b[39;49mparse_dates,\n\u001b[0;32m    608\u001b[0m         chunksize\u001b[39m=\u001b[39;49mchunksize,\n\u001b[0;32m    609\u001b[0m     )\n\u001b[0;32m    611\u001b[0m \u001b[39mtry\u001b[39;00m:\n\u001b[0;32m    612\u001b[0m     _is_table_name \u001b[39m=\u001b[39m pandas_sql\u001b[39m.\u001b[39mhas_table(sql)\n",
      "File \u001b[1;32mc:\\Python\\lib\\site-packages\\pandas\\io\\sql.py:2116\u001b[0m, in \u001b[0;36mSQLiteDatabase.read_query\u001b[1;34m(self, sql, index_col, coerce_float, params, parse_dates, chunksize, dtype)\u001b[0m\n\u001b[0;32m   2104\u001b[0m \u001b[39mdef\u001b[39;00m \u001b[39mread_query\u001b[39m(\n\u001b[0;32m   2105\u001b[0m     \u001b[39mself\u001b[39m,\n\u001b[0;32m   2106\u001b[0m     sql,\n\u001b[1;32m   (...)\u001b[0m\n\u001b[0;32m   2112\u001b[0m     dtype: DtypeArg \u001b[39m|\u001b[39m \u001b[39mNone\u001b[39;00m \u001b[39m=\u001b[39m \u001b[39mNone\u001b[39;00m,\n\u001b[0;32m   2113\u001b[0m ):\n\u001b[0;32m   2115\u001b[0m     args \u001b[39m=\u001b[39m _convert_params(sql, params)\n\u001b[1;32m-> 2116\u001b[0m     cursor \u001b[39m=\u001b[39m \u001b[39mself\u001b[39;49m\u001b[39m.\u001b[39;49mexecute(\u001b[39m*\u001b[39;49margs)\n\u001b[0;32m   2117\u001b[0m     columns \u001b[39m=\u001b[39m [col_desc[\u001b[39m0\u001b[39m] \u001b[39mfor\u001b[39;00m col_desc \u001b[39min\u001b[39;00m cursor\u001b[39m.\u001b[39mdescription]\n\u001b[0;32m   2119\u001b[0m     \u001b[39mif\u001b[39;00m chunksize \u001b[39mis\u001b[39;00m \u001b[39mnot\u001b[39;00m \u001b[39mNone\u001b[39;00m:\n",
      "File \u001b[1;32mc:\\Python\\lib\\site-packages\\pandas\\io\\sql.py:2068\u001b[0m, in \u001b[0;36mSQLiteDatabase.execute\u001b[1;34m(self, *args, **kwargs)\u001b[0m\n\u001b[0;32m   2065\u001b[0m     \u001b[39mraise\u001b[39;00m ex \u001b[39mfrom\u001b[39;00m \u001b[39minner_exc\u001b[39;00m\n\u001b[0;32m   2067\u001b[0m ex \u001b[39m=\u001b[39m DatabaseError(\u001b[39mf\u001b[39m\u001b[39m\"\u001b[39m\u001b[39mExecution failed on sql \u001b[39m\u001b[39m'\u001b[39m\u001b[39m{\u001b[39;00margs[\u001b[39m0\u001b[39m]\u001b[39m}\u001b[39;00m\u001b[39m'\u001b[39m\u001b[39m: \u001b[39m\u001b[39m{\u001b[39;00mexc\u001b[39m}\u001b[39;00m\u001b[39m\"\u001b[39m)\n\u001b[1;32m-> 2068\u001b[0m \u001b[39mraise\u001b[39;00m ex \u001b[39mfrom\u001b[39;00m \u001b[39mexc\u001b[39;00m\n",
      "\u001b[1;31mDatabaseError\u001b[0m: Execution failed on sql 'select * from NSE_EOD where Trnx_date >= GETDATE()-365 and Script_Name ='NAVKARCORP' order by Trnx_date ': ('HY000', '[HY000] [Microsoft][ODBC Driver 17 for SQL Server]Connection is busy with results for another command (0) (SQLExecDirectW)')"
     ]
    }
   ],
   "source": [
    "import pandas as pd\n",
    "import pyodbc \n",
    "\n",
    "connNSE2 = pyodbc.connect('DRIVER={ODBC Driver 17 for SQL Server};SERVER=LAPTOP-IFK6D8L3\\\\SQLEXPRESS;DATABASE=StockQuote;UID=sa;PWD=password;Trusted_Connection=Yes')\n",
    "StockSQL = \"select * from NSE_EOD where Trnx_date >= GETDATE()-365 and Script_Name ='NAVKARCORP' order by Trnx_date \"\n",
    "nseEOD = connNSE2.execute(StockSQL)\n",
    "dfStock = pd.read_sql(con=connNSE2,sql=StockSQL)\n",
    "dfStock['EMA'] = dfStock['Close'].ewm(span=21)\n",
    "print(dfStock)"
   ]
  }
 ],
 "metadata": {
  "kernelspec": {
   "display_name": "Python 3",
   "language": "python",
   "name": "python3"
  },
  "language_info": {
   "codemirror_mode": {
    "name": "ipython",
    "version": 3
   },
   "file_extension": ".py",
   "mimetype": "text/x-python",
   "name": "python",
   "nbconvert_exporter": "python",
   "pygments_lexer": "ipython3",
   "version": "3.9.9"
  },
  "orig_nbformat": 4
 },
 "nbformat": 4,
 "nbformat_minor": 2
}
